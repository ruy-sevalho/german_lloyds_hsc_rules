{
 "cells": [
  {
   "cell_type": "code",
   "execution_count": 4,
   "source": [
    "from gl_hsc_scantling import Vessel, Matrix, Fiber, Lamina, Core, Core_mat"
   ],
   "outputs": [],
   "metadata": {}
  },
  {
   "cell_type": "code",
   "execution_count": 4,
   "source": [
    "vessel = Vessel(**{\r\n",
    "        \"name\": \"catamaran\",\r\n",
    "        \"service_range\": \"USR\",\r\n",
    "        \"type_of_service\": \"PASSENGER\",\r\n",
    "        \"speed\": 15,\r\n",
    "        \"displacement\": 6,\r\n",
    "        \"length\": 10.5,\r\n",
    "        \"beam\": 6.5,\r\n",
    "        \"fwd_perp\": 0,\r\n",
    "        \"aft_perp\": 10,\r\n",
    "        \"draft\": 0.51,\r\n",
    "        \"z_baseline\": -0.51,\r\n",
    "        \"block_coef\": 0.4,\r\n",
    "        \"water_plane_area\": 10,\r\n",
    "        \"lcg\": 6,\r\n",
    "        \"deadrise_lcg\": 12,\r\n",
    "        \"dist_hull_cl\": 4.6,\r\n",
    "    })"
   ],
   "outputs": [],
   "metadata": {}
  },
  {
   "cell_type": "code",
   "execution_count": 5,
   "source": [
    "vessel"
   ],
   "outputs": [
    {
     "output_type": "execute_result",
     "data": {
      "text/plain": [
       "Vessel(name='catamaran', speed=15, displacement=6, length=10.5, beam=6.5, fwd_perp=0, aft_perp=10, draft=0.51, z_baseline=-0.51, block_coef=0.4, water_plane_area=10, lcg=6, deadrise_lcg=12, dist_hull_cl=4.6, type_of_service='PASSENGER', service_range='USR')"
      ]
     },
     "metadata": {},
     "execution_count": 5
    }
   ],
   "metadata": {}
  },
  {
   "cell_type": "code",
   "execution_count": 8,
   "source": [
    "polyester = Matrix(**{\r\n",
    "        \"name\": \"polyester\",\r\n",
    "        \"density\": 1200,\r\n",
    "        \"modulus_x\": 3000000,\r\n",
    "        \"modulus_xy\": 1140000,\r\n",
    "        \"poisson\": 0.316,\r\n",
    "    })"
   ],
   "outputs": [],
   "metadata": {}
  },
  {
   "cell_type": "code",
   "execution_count": 9,
   "source": [
    "polyester"
   ],
   "outputs": [
    {
     "output_type": "execute_result",
     "data": {
      "text/plain": [
       "Matrix(name='polyester', density=1200, modulus_x=3000000, modulus_xy=1140000, poisson=0.316)"
      ]
     },
     "metadata": {},
     "execution_count": 9
    }
   ],
   "metadata": {}
  },
  {
   "cell_type": "code",
   "execution_count": 13,
   "source": [
    "e_glass = Fiber(**{\r\n",
    "        \"name\": \"e-glass\",\r\n",
    "        \"density\": 2540,\r\n",
    "        \"modulus_x\": 73000000,\r\n",
    "        \"modulus_y\": 73000000,\r\n",
    "        \"modulus_xy\": 30000000,\r\n",
    "        \"poisson\": 0.18,\r\n",
    "    })"
   ],
   "outputs": [],
   "metadata": {}
  },
  {
   "cell_type": "code",
   "execution_count": 14,
   "source": [
    "e_glass"
   ],
   "outputs": [
    {
     "output_type": "execute_result",
     "data": {
      "text/plain": [
       "Fiber(name='e-glass', density=2540, modulus_x=73000000, modulus_y=73000000, modulus_xy=30000000, poisson=0.18)"
      ]
     },
     "metadata": {},
     "execution_count": 14
    }
   ],
   "metadata": {}
  },
  {
   "cell_type": "code",
   "execution_count": 2,
   "source": [
    "et_0900 = Lamina(**{\r\n",
    "        \"modulus_x\": 14336000,\r\n",
    "        \"modulus_y\": 39248000,\r\n",
    "        \"modulus_xy\": 4530000,\r\n",
    "        \"poisson_xy\": 0.09,\r\n",
    "        \"thickness\": 0.000228,\r\n",
    "        \"f_mass_cont\": 0.7,\r\n",
    "        \"f_area_density\": 0.304,\r\n",
    "        \"max_strain_x\": 0.035,\r\n",
    "        \"max_strain_xy\": 0.07,\r\n",
    "        \"name\": \"et_0900\",\r\n",
    "    })"
   ],
   "outputs": [],
   "metadata": {}
  },
  {
   "cell_type": "code",
   "execution_count": 3,
   "source": [
    "et_0900"
   ],
   "outputs": [
    {
     "output_type": "execute_result",
     "data": {
      "text/plain": [
       "Lamina(modulus_x=14336000, modulus_y=39248000, modulus_xy=4530000, poisson_xy=0.09, thickness=0.000228, f_mass_cont=0.7, f_area_density=0.304, max_strain_x=0.035, max_strain_xy=0.07, name='et_0900')"
      ]
     },
     "metadata": {},
     "execution_count": 3
    }
   ],
   "metadata": {}
  },
  {
   "cell_type": "code",
   "execution_count": 5,
   "source": [
    "H80 = Core_mat(**{\r\n",
    "        \"core_type\": \"solid\",\r\n",
    "        \"strength_shear\": 950,\r\n",
    "        \"modulus_shear\": 23000,\r\n",
    "        \"strength_tens\": 2200,\r\n",
    "        \"modulus_tens\": 85000,\r\n",
    "        \"strength_comp\": 1150,\r\n",
    "        \"modulus_comp\": 80000,\r\n",
    "        \"density\": 80,\r\n",
    "        \"resin_absorption\": 0.35,\r\n",
    "        \"name\": \"H80\",\r\n",
    "    })"
   ],
   "outputs": [],
   "metadata": {}
  },
  {
   "cell_type": "code",
   "execution_count": 6,
   "source": [
    "H80"
   ],
   "outputs": [
    {
     "output_type": "execute_result",
     "data": {
      "text/plain": [
       "Core_mat(strength_shear=950, modulus_shear=23000, strength_tens=2200, modulus_tens=85000, strength_comp=1150, modulus_comp=80000, density=80, resin_absorption=0.35, core_type='solid', name='H80')"
      ]
     },
     "metadata": {},
     "execution_count": 6
    }
   ],
   "metadata": {}
  },
  {
   "cell_type": "code",
   "execution_count": null,
   "source": [],
   "outputs": [],
   "metadata": {}
  }
 ],
 "metadata": {
  "orig_nbformat": 4,
  "language_info": {
   "name": "python",
   "version": "3.9.6",
   "mimetype": "text/x-python",
   "codemirror_mode": {
    "name": "ipython",
    "version": 3
   },
   "pygments_lexer": "ipython3",
   "nbconvert_exporter": "python",
   "file_extension": ".py"
  },
  "kernelspec": {
   "name": "python3",
   "display_name": "Python 3.9.6 64-bit ('new': conda)"
  },
  "interpreter": {
   "hash": "4275269a213dec1ddfffddef833bd1d9bfa16a27be77be1095cfbeddeec3afa1"
  }
 },
 "nbformat": 4,
 "nbformat_minor": 2
}